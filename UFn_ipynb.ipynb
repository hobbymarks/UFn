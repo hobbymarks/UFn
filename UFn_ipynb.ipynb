{
 "cells": [
  {
   "cell_type": "markdown",
   "id": "opposite-formation",
   "metadata": {},
   "source": [
    "## Set Target Directory "
   ]
  },
  {
   "cell_type": "code",
   "execution_count": 41,
   "id": "comic-introduction",
   "metadata": {},
   "outputs": [],
   "source": [
    "# All files in target_dir will be Unified file name,include directorys.\n",
    "# You should change target_dir string manually .\n",
    "# You should better use absolute directory path .\n",
    "target_dir = \"../EmptyDir/\""
   ]
  },
  {
   "cell_type": "markdown",
   "id": "harmful-diameter",
   "metadata": {},
   "source": [
    "## Desfine Set and Also Pickle to File "
   ]
  },
  {
   "cell_type": "code",
   "execution_count": 38,
   "id": "former-welding",
   "metadata": {
    "execution": {
     "iopub.execute_input": "2021-03-02T10:43:12.484984Z",
     "iopub.status.busy": "2021-03-02T10:43:12.484773Z",
     "iopub.status.idle": "2021-03-02T10:43:12.488071Z",
     "shell.execute_reply": "2021-03-02T10:43:12.487337Z",
     "shell.execute_reply.started": "2021-03-02T10:43:12.484959Z"
    },
    "tags": []
   },
   "outputs": [],
   "source": [
    "import os\n",
    "\n",
    "data_path = \"./data/\""
   ]
  },
  {
   "cell_type": "markdown",
   "id": "beginning-bolivia",
   "metadata": {},
   "source": [
    "#### Define Characters Set Dictionary"
   ]
  },
  {
   "cell_type": "code",
   "execution_count": 39,
   "id": "noted-circumstances",
   "metadata": {
    "execution": {
     "iopub.execute_input": "2021-03-02T10:43:13.319811Z",
     "iopub.status.busy": "2021-03-02T10:43:13.319219Z",
     "iopub.status.idle": "2021-03-02T10:43:13.345806Z",
     "shell.execute_reply": "2021-03-02T10:43:13.344821Z",
     "shell.execute_reply.started": "2021-03-02T10:43:13.319742Z"
    },
    "jupyter": {
     "source_hidden": true
    },
    "tags": []
   },
   "outputs": [],
   "source": [
    "import collections\n",
    "CharDictionary = collections.OrderedDict()\n",
    "specChar = \"_\"\n",
    "CharDictionary = {\n",
    "    \"\\r\": specChar,\n",
    "    \"\\n\": specChar,\n",
    "    \"?\": specChar,\n",
    "    \",\": specChar,\n",
    "    \"!\": specChar,\n",
    "    \":\": specChar,\n",
    "    \"&\": specChar,\n",
    "    \"@\": specChar,\n",
    "    \"·\": specChar,\n",
    "    \"\\`\": specChar,\n",
    "    \" \": specChar,\n",
    "    \"(\": specChar,\n",
    "    \")\": specChar,\n",
    "    \"'\": specChar,\n",
    "    \"+\": specChar,\n",
    "    \"-\": specChar,\n",
    "    \"=\": specChar,\n",
    "    \"|\": specChar,\n",
    "    \"[\": specChar,\n",
    "    \"]\": specChar,\n",
    "    \"{\": specChar,\n",
    "    \"}\": specChar,\n",
    "    \"»\": specChar,\n",
    "    \"«\": specChar,\n",
    "    \"\\\"\": specChar,\n",
    "    \"*\": specChar,\n",
    "    \"#\": specChar,\n",
    "    \"®\": specChar,\n",
    "    \"…\": specChar,\n",
    "    \"“\": specChar,\n",
    "    \"”\": specChar,\n",
    "    \".\": specChar,\n",
    "    \"•\": specChar,\n",
    "    \"，\": specChar,\n",
    "    \"–\": specChar,\n",
    "    \"—\": specChar,\n",
    "    \"、\": specChar,\n",
    "    \"（\": specChar,\n",
    "    \"）\": specChar,\n",
    "    \"《\": specChar,\n",
    "    \"》\": specChar,\n",
    "    \">\": specChar,\n",
    "    \"【\": specChar,\n",
    "    \"】\": specChar,\n",
    "    \"「\": specChar,\n",
    "    \"」\": specChar,\n",
    "    \"｜\": specChar,\n",
    "    \"：\": specChar,\n",
    "    \"；\": specChar,\n",
    "    \"？\": specChar,\n",
    "    \"！\": specChar,\n",
    "    \"🚀\": specChar,\n",
    "    \"🚴\": specChar,\n",
    "    \"🌏\": specChar,\n",
    "    \"🐾\": specChar,\n",
    "    \"%2F\": specChar,\n",
    "    \"____\": specChar,\n",
    "    \"___\": specChar,\n",
    "    \"__\": specChar,\n",
    "    \"._\": specChar,\n",
    "    \"What’s\": \"What_is\",\n",
    "    \"what’s\": \"what_is\"\n",
    "}\n",
    "\n",
    "from datetime import datetime\n",
    "import pickle\n",
    "\n",
    "fname = \"CharDictionary_\" + datetime.now().strftime(\"%Y%m%d\" + \".pkl\")\n",
    "fpath = os.path.join(data_path, fname)\n",
    "lnkpath = os.path.join(data_path, \"CharDictionary.pkl\")\n",
    "\n",
    "with open(fpath, \"wb\") as fhand:\n",
    "    pickle.dump(CharDictionary, fhand)\n",
    "\n",
    "import subprocess\n",
    "\n",
    "if os.path.exists(lnkpath):\n",
    "    os.remove(lnkpath)\n",
    "createLink = subprocess.Popen([\"ln\", \"-s\", fname, lnkpath])"
   ]
  },
  {
   "cell_type": "markdown",
   "id": "separate-primary",
   "metadata": {},
   "source": [
    "#### Define Terminology Set Dictionary"
   ]
  },
  {
   "cell_type": "code",
   "execution_count": 40,
   "id": "preceding-atlanta",
   "metadata": {
    "execution": {
     "iopub.execute_input": "2021-03-02T10:43:14.254920Z",
     "iopub.status.busy": "2021-03-02T10:43:14.254292Z",
     "iopub.status.idle": "2021-03-02T10:43:14.282950Z",
     "shell.execute_reply": "2021-03-02T10:43:14.281958Z",
     "shell.execute_reply.started": "2021-03-02T10:43:14.254835Z"
    },
    "jupyter": {
     "source_hidden": true
    },
    "tags": []
   },
   "outputs": [],
   "source": [
    "TerminologyDictionary = {\n",
    "    #     \"apple\": \"Apple\",\n",
    "    \"api\": \"API\",\n",
    "    \"atm\": \"ATM\",\n",
    "    \"cypress\": \"CYPRESS\",\n",
    "    \"dji\": \"DJI\",\n",
    "    #     \"google\": \"Google\",\n",
    "    \"i2c\": \"I2C\",\n",
    "    \"kicad\": \"KiCAD\",\n",
    "    \"mosfet\": \"MOSFET\",\n",
    "    \"mux\": \"MUX\",\n",
    "    \"nltk\": \"NLTK\",\n",
    "    \"pcb\": \"PCB\",\n",
    "    \"pcie\": \"PCIe\",\n",
    "    \"psoc\": \"PSoC\",\n",
    "    \"rohs\": \"ROHS\",\n",
    "    \"spi\": \"SPI\",\n",
    "    \"ti\": \"TI\",\n",
    "    \"usb\": \"USB\",\n",
    "    \"vishay\": \"VISHAY\",\n",
    "}\n",
    "\n",
    "from datetime import datetime\n",
    "import pickle\n",
    "\n",
    "fname = \"TerminologyDictionary_\" + datetime.now().strftime(\"%Y%m%d\" + \".pkl\")\n",
    "fpath = os.path.join(data_path, fname)\n",
    "lnkpath = os.path.join(data_path, \"TerminologyDictionary.pkl\")\n",
    "with open(fpath, \"wb\") as fhand:\n",
    "    pickle.dump(TerminologyDictionary, fhand)\n",
    "\n",
    "import subprocess\n",
    "\n",
    "if os.path.exists(lnkpath):\n",
    "    os.remove(lnkpath)\n",
    "createLink = subprocess.Popen([\"ln\", \"-s\", fname, lnkpath])"
   ]
  },
  {
   "cell_type": "markdown",
   "id": "great-enemy",
   "metadata": {},
   "source": [
    "#### Define Ignored Directory Key"
   ]
  },
  {
   "cell_type": "code",
   "execution_count": 68,
   "id": "killing-reflection",
   "metadata": {
    "execution": {
     "iopub.execute_input": "2021-03-02T11:17:31.269301Z",
     "iopub.status.busy": "2021-03-02T11:17:31.269003Z",
     "iopub.status.idle": "2021-03-02T11:17:31.286894Z",
     "shell.execute_reply": "2021-03-02T11:17:31.285873Z",
     "shell.execute_reply.started": "2021-03-02T11:17:31.269264Z"
    },
    "jupyter": {
     "source_hidden": true
    },
    "tags": []
   },
   "outputs": [],
   "source": [
    "IgnoredDirectoryKeyList = [\".git\", \".xcodeproj\", \".cydsn\", \".cywrk\"]\n",
    "\n",
    "from datetime import datetime\n",
    "import pickle\n",
    "\n",
    "fname = \"IgnoredDirectoryKeyList_\" + datetime.now().strftime(\"%Y%m%d\" + \".pkl\")\n",
    "fpath = os.path.join(data_path, fname)\n",
    "lnkpath = os.path.join(data_path, \"IgnoredDirectoryKeyList.pkl\")\n",
    "with open(fpath, \"wb\") as fhand:\n",
    "    pickle.dump(IgnoredDirectoryKeyList, fhand)\n",
    "\n",
    "import subprocess\n",
    "\n",
    "if os.path.exists(lnkpath):\n",
    "    os.remove(lnkpath)\n",
    "createLink = subprocess.Popen([\"ln\", \"-s\", fname, lnkpath])"
   ]
  },
  {
   "cell_type": "markdown",
   "id": "weighted-copyright",
   "metadata": {},
   "source": [
    "#### Get Words Set and Convert to Lower Case"
   ]
  },
  {
   "cell_type": "code",
   "execution_count": 42,
   "id": "representative-vacuum",
   "metadata": {
    "execution": {
     "iopub.execute_input": "2021-03-02T10:43:27.616964Z",
     "iopub.status.busy": "2021-03-02T10:43:27.616741Z",
     "iopub.status.idle": "2021-03-02T10:43:28.481241Z",
     "shell.execute_reply": "2021-03-02T10:43:28.480294Z",
     "shell.execute_reply.started": "2021-03-02T10:43:27.616937Z"
    },
    "jupyter": {
     "source_hidden": true
    },
    "tags": []
   },
   "outputs": [],
   "source": [
    "from nltk.corpus import words\n",
    "\n",
    "LowerCaseWordSet = set(list(map(lambda x: x.lower(), words.words())))\n",
    "\n",
    "from datetime import datetime\n",
    "import pickle\n",
    "\n",
    "with open(\n",
    "        os.path.join(\n",
    "            data_path,\n",
    "            \"NLTK_corpus_words_\" + datetime.now().strftime(\"%Y%m%d\") + \".pkl\"),\n",
    "        \"wb\") as fhand:\n",
    "    pickle.dump(words.words(), fhand)\n",
    "\n",
    "fname = \"LowerCaseWordSet_\" + datetime.now().strftime(\"%Y%m%d\" + \".pkl\")\n",
    "fpath = os.path.join(data_path, fname)\n",
    "lnkpath = os.path.join(data_path, \"LowerCaseWordSet.pkl\")\n",
    "with open(fpath, \"wb\") as fhand:\n",
    "    pickle.dump(LowerCaseWordSet, fhand)\n",
    "\n",
    "import subprocess\n",
    "\n",
    "if os.path.exists(lnkpath):\n",
    "    os.remove(lnkpath)\n",
    "createLink = subprocess.Popen([\"ln\", \"-s\", fname, lnkpath])"
   ]
  },
  {
   "cell_type": "markdown",
   "id": "potential-dining",
   "metadata": {},
   "source": [
    "---\n",
    "## Jupyter Notebook Version"
   ]
  },
  {
   "cell_type": "markdown",
   "id": "complimentary-rider",
   "metadata": {},
   "source": [
    "### Define Functions"
   ]
  },
  {
   "cell_type": "code",
   "execution_count": 45,
   "id": "prostate-jacket",
   "metadata": {
    "jupyter": {
     "source_hidden": true
    },
    "tags": []
   },
   "outputs": [],
   "source": [
    "def replaceChar(charDict={}, tgtString=\"\"):\n",
    "    assert charDict\n",
    "    assert tgtString\n",
    "    print(tgtString)\n",
    "    import os\n",
    "    root, ext = os.path.splitext(tgtString)\n",
    "    for key, value in charDict.items():\n",
    "        if key in root:\n",
    "            root = root.replace(key, value)\n",
    "            print(\"---%s\" % root + ext)\n",
    "    return root + ext\n",
    "\n",
    "\n",
    "def processHeadTailChar(tgtString=\"\"):\n",
    "    assert tgtString\n",
    "    specChar = \"_\"\n",
    "    import os\n",
    "    root, ext = os.path.splitext(tgtString)\n",
    "    if root.startswith(specChar):\n",
    "        root = specChar.join(root.split(specChar)[1:])\n",
    "    if root.endswith(specChar):\n",
    "        root = specChar.join(root.split(specChar)[0:-1])\n",
    "    return root + ext\n",
    "\n",
    "\n",
    "def processTerminology(termDictionary={}, tgtString=\"\"):\n",
    "    assert termDictionary\n",
    "    assert tgtString\n",
    "    specChar = \"_\"\n",
    "    import os\n",
    "    root, ext = os.path.splitext(tgtString)\n",
    "    wordList = root.split(specChar)\n",
    "    newWordList = []\n",
    "    for word in wordList:\n",
    "        if word.lower() in termDictionary.keys():\n",
    "            newWordList.append(termDictionary[word.lower()])\n",
    "        else:\n",
    "            newWordList.append(word)\n",
    "    return specChar.join(newWordList) + ext\n",
    "\n",
    "\n",
    "def titlelize(tgtString=\"\"):\n",
    "    assert tgtString\n",
    "    import os\n",
    "    root, ext = os.path.splitext(tgtString)\n",
    "    return root.title() + ext\n",
    "\n",
    "\n",
    "def processWord(wordSet=set(), tgtString=\"\"):\n",
    "    assert wordSet\n",
    "    assert tgtString\n",
    "    specChar = \"_\"\n",
    "    import os\n",
    "    import string\n",
    "    root, ext = os.path.splitext(tgtString)\n",
    "    wordList = root.split(specChar)\n",
    "    newWordList = []\n",
    "    for word in wordList:\n",
    "        if word.lower() in wordSet:\n",
    "            newWordList.append(string.capwords(word))\n",
    "        else:\n",
    "            newWordList.append(word)\n",
    "\n",
    "    return specChar.join(newWordList) + ext"
   ]
  },
  {
   "cell_type": "markdown",
   "id": "frank-campus",
   "metadata": {},
   "source": [
    "### Processing Files"
   ]
  },
  {
   "cell_type": "code",
   "execution_count": 46,
   "id": "alien-lawrence",
   "metadata": {
    "jupyter": {
     "source_hidden": true
    },
    "tags": []
   },
   "outputs": [],
   "source": [
    "import os\n",
    "for subdir, dirs, files in os.walk(target_dir):\n",
    "    for file in files:\n",
    "        oldNamePath = os.path.join(subdir, file)\n",
    "        #         newName = \"\".join(file.split())\n",
    "        newName = file\n",
    "        # replace characters by defined Dictionary\n",
    "        newName = replaceChar(charDict=CharDictionary, tgtString=newName)\n",
    "        # process Head and Tail character exclude file name extension\n",
    "        newName = processHeadTailChar(tgtString=newName)\n",
    "        # Capitalize\n",
    "        #         newName = newName.capitalize()\n",
    "        # Titlelize File Name\n",
    "        #         newName = titlelize(tgtString=newName)\n",
    "        # Capwords only when word in wordsSet\n",
    "        newName = processWord(wordSet=LowerCaseWordSet, tgtString=newName)\n",
    "        # Pretty Terminology\n",
    "        newName = processTerminology(termDictionary=TerminologyDictionary,\n",
    "                                     tgtString=newName)\n",
    "        # Create full path\n",
    "        newNamePath = os.path.join(subdir, newName)\n",
    "        # rename file name\n",
    "        os.rename(oldNamePath, newNamePath)\n",
    "        print(\"==>%s\" % newName)"
   ]
  },
  {
   "cell_type": "markdown",
   "id": "functional-rolling",
   "metadata": {},
   "source": [
    "---\n",
    "## Standalone Version"
   ]
  },
  {
   "cell_type": "code",
   "execution_count": 1,
   "id": "opposed-pakistan",
   "metadata": {
    "execution": {
     "iopub.execute_input": "2021-03-03T03:12:22.978704Z",
     "iopub.status.busy": "2021-03-03T03:12:22.978490Z",
     "iopub.status.idle": "2021-03-03T03:12:22.985584Z",
     "shell.execute_reply": "2021-03-03T03:12:22.985081Z",
     "shell.execute_reply.started": "2021-03-03T03:12:22.978651Z"
    },
    "tags": []
   },
   "outputs": [
    {
     "name": "stdout",
     "output_type": "stream",
     "text": [
      "Overwriting UFn.py\n"
     ]
    }
   ],
   "source": [
    "%%writefile UFn.py\n",
    "\n",
    "import os\n",
    "\n",
    "data_path = \"./data/\"\n",
    "\n",
    "\n",
    "def isHiddenFile(path):\n",
    "    import os\n",
    "    if os.name == \"nt\":\n",
    "        import win32api, win32con\n",
    "    if os.name == \"nt\":\n",
    "        attribute = win32api.GetFileAttributes(path)\n",
    "        return attribute & (win32con.FILE_ATTRIBUTE_HIDDEN |\n",
    "                            win32con.FILE_ATTRIBUTE_SYSTEM)\n",
    "    else:\n",
    "        return os.path.basename(path).startswith('.')  #linux-osx\n",
    "\n",
    "\n",
    "def replaceChar(charDict={}, tgtString=\"\"):\n",
    "    assert charDict\n",
    "    assert tgtString\n",
    "    import os\n",
    "    import click\n",
    "    root, ext = os.path.splitext(tgtString)\n",
    "    for key, value in charDict.items():\n",
    "        if key in root:\n",
    "            root = root.replace(key, value)\n",
    "\n",
    "\n",
    "#             click.echo(\"---%s\" % root + ext)\n",
    "    return root + ext\n",
    "\n",
    "\n",
    "def processHeadTailChar(tgtString=\"\"):\n",
    "    assert tgtString\n",
    "    specChar = \"_\"\n",
    "    import os\n",
    "    root, ext = os.path.splitext(tgtString)\n",
    "    if root.startswith(specChar):\n",
    "        root = specChar.join(root.split(specChar)[1:])\n",
    "    if root.endswith(specChar):\n",
    "        root = specChar.join(root.split(specChar)[0:-1])\n",
    "    return root + ext\n",
    "\n",
    "\n",
    "def processTerminology(termDictionary={}, tgtString=\"\"):\n",
    "    assert termDictionary\n",
    "    assert tgtString\n",
    "    specChar = \"_\"\n",
    "    import os\n",
    "    root, ext = os.path.splitext(tgtString)\n",
    "    wordList = root.split(specChar)\n",
    "    newWordList = []\n",
    "    for word in wordList:\n",
    "        if word.lower() in termDictionary.keys():\n",
    "            newWordList.append(termDictionary[word.lower()])\n",
    "        else:\n",
    "            newWordList.append(word)\n",
    "    return specChar.join(newWordList) + ext\n",
    "\n",
    "\n",
    "def processWord(wordSet=set(), tgtString=\"\"):\n",
    "    assert wordSet\n",
    "    assert tgtString\n",
    "    specChar = \"_\"\n",
    "    import os\n",
    "    import string\n",
    "    root, ext = os.path.splitext(tgtString)\n",
    "    wordList = root.split(specChar)\n",
    "    newWordList = []\n",
    "    for word in wordList:\n",
    "        if word.lower() in wordSet:\n",
    "            newWordList.append(string.capwords(word))\n",
    "        else:\n",
    "            newWordList.append(word)\n",
    "\n",
    "    return specChar.join(newWordList) + ext\n",
    "\n",
    "\n",
    "import click\n",
    "\n",
    "\n",
    "@click.command()\n",
    "@click.option(\"-p\",\n",
    "              \"--path\",\n",
    "              prompt=\"target path\",\n",
    "              help=\"files in path will be changed name.\")\n",
    "@click.option(\"-E\",\n",
    "              \"--exclude\",\n",
    "              default=\"\",\n",
    "              help=\"exclude all files in exclude path\")\n",
    "@click.option(\"-d\",\n",
    "              \"--dry\",\n",
    "              default=True,\n",
    "              type=bool,\n",
    "              help=\"if dry is True will not change file name.Default is True.\")\n",
    "@click.option(\n",
    "    \"-s\",\n",
    "    \"--simple\",\n",
    "    default=True,\n",
    "    type=bool,\n",
    "    help=\"if simple is True Only print changed file name.Default is True.\")\n",
    "def ufn(path, exclude, dry, simple):\n",
    "    \"\"\"Files in PATH will be changed file names unified.\"\"\"\n",
    "    import os\n",
    "    if not os.path.isdir(path):\n",
    "        click.echo(\"%s is not valid path.\")\n",
    "        return -1\n",
    "\n",
    "    import pickle\n",
    "    with open(os.path.join(data_path, \"CharDictionary.pkl\"), \"rb\") as fhand:\n",
    "        CharDictionary = pickle.load(fhand)\n",
    "    with open(os.path.join(data_path, \"TerminologyDictionary.pkl\"),\n",
    "              \"rb\") as fhand:\n",
    "        TerminologyDictionary = pickle.load(fhand)\n",
    "    with open(os.path.join(data_path, \"LowerCaseWordSet.pkl\"), \"rb\") as fhand:\n",
    "        LowerCaseWordSet = pickle.load(fhand)\n",
    "    for subdir, dirs, files in os.walk(path):\n",
    "        for file in files:\n",
    "            #             if not os.path.isfile(file):\n",
    "            #                 continue\n",
    "            oldNamePath = os.path.join(subdir, file)\n",
    "            if isHiddenFile(oldNamePath):\n",
    "                continue\n",
    "            newName = file\n",
    "            # replace characters by defined Dictionary\n",
    "            newName = replaceChar(charDict=CharDictionary, tgtString=newName)\n",
    "            # process Head and Tail character exclude file name extension\n",
    "            newName = processHeadTailChar(tgtString=newName)\n",
    "            # Capwords only when word in wordsSet\n",
    "            newName = processWord(wordSet=LowerCaseWordSet, tgtString=newName)\n",
    "            # Pretty Terminology\n",
    "            newName = processTerminology(termDictionary=TerminologyDictionary,\n",
    "                                         tgtString=newName)\n",
    "            # Capitalize The First Letter\n",
    "            newName = newName[0].upper() + newName[1:]\n",
    "            # Create full path\n",
    "            newNamePath = os.path.join(subdir, newName)\n",
    "            if not dry:\n",
    "                # rename file name\n",
    "                os.rename(oldNamePath, newNamePath)\n",
    "            if (not simple) or (newName != file):\n",
    "                click.echo(\"   %s\" % file)\n",
    "                click.echo(\"==>%s\" % newName)\n",
    "\n",
    "    return 0\n",
    "\n",
    "\n",
    "if __name__ == \"__main__\":\n",
    "    ufn()"
   ]
  },
  {
   "cell_type": "markdown",
   "id": "smooth-migration",
   "metadata": {},
   "source": [
    "---\n",
    "## Roadmap\n",
    "\n",
    "* colorfull print the difference OldFileName and NewFileName\n",
    "* support undo operation \n",
    "* support set depth\n",
    "* support set ignore directory or files\n",
    "* pretty ShortTerm,such as ATM,ROHS,PCB,...\n",
    "* personalize file name ,such as capatilize every word,...\n",
    "* search all ipynb or python file name and auto correction ...\n",
    "* reserve original file name as link\n",
    "* ensure First Char in Alphabet and Capitalize"
   ]
  },
  {
   "cell_type": "markdown",
   "id": "romantic-racing",
   "metadata": {},
   "source": [
    "## Others ..."
   ]
  },
  {
   "cell_type": "code",
   "execution_count": 67,
   "id": "interior-checklist",
   "metadata": {},
   "outputs": [],
   "source": [
    "import hashlib\n",
    "\n",
    "\n",
    "def createLog(filePath=\"\"):\n",
    "    with open(filePath, \"rb\") as fhand:\n",
    "        data = fhand.read()\n",
    "        md5Value = hashlib.md5(data).hexdigest()\n",
    "\n",
    "    return md5Value"
   ]
  },
  {
   "cell_type": "code",
   "execution_count": 18,
   "id": "looking-bubble",
   "metadata": {},
   "outputs": [
    {
     "data": {
      "text/plain": [
       "'5af7b4042d4319459861d197c401feb2'"
      ]
     },
     "execution_count": 18,
     "metadata": {},
     "output_type": "execute_result"
    }
   ],
   "source": [
    "createLog(\n",
    "    filePath=\"../document/Kicad_stm32_rf_usb_hardware_design_14_jh3nlssu.mp4\")"
   ]
  },
  {
   "cell_type": "code",
   "execution_count": 12,
   "id": "determined-mirror",
   "metadata": {},
   "outputs": [],
   "source": [
    "import json"
   ]
  },
  {
   "cell_type": "code",
   "execution_count": 13,
   "id": "optional-invitation",
   "metadata": {},
   "outputs": [],
   "source": [
    "sampleDict = {\n",
    "    \"5af7b4042d4319459861d197c401feb2\": {\n",
    "        \"currentName\": \"Kicad_stm32_rf_usb_hardware_design_14_jh3nlssu.mp4\",\n",
    "        \"oldName\": {\n",
    "            \"20201023123456\": \"SampleTest.mp\",\n",
    "            \"20201123123456\": \"SampleDTest.mp\"\n",
    "        }\n",
    "    }\n",
    "}"
   ]
  },
  {
   "cell_type": "code",
   "execution_count": 16,
   "id": "weird-passage",
   "metadata": {},
   "outputs": [
    {
     "name": "stdout",
     "output_type": "stream",
     "text": [
      "{\"5af7b4042d4319459861d197c401feb2\": {\"currentName\": \"Kicad_stm32_rf_usb_hardware_design_14_jh3nlssu.mp4\", \"oldName\": \"SampleTest.mp\"}}\n"
     ]
    }
   ],
   "source": [
    "print(json.dumps(sampleDict))"
   ]
  },
  {
   "cell_type": "code",
   "execution_count": null,
   "id": "associate-salon",
   "metadata": {
    "tags": []
   },
   "outputs": [],
   "source": [
    "import os\n",
    "\n",
    "file_list = []\n",
    "ignore_dir_path_list = []\n",
    "for subdir, dirs, files in os.walk(\"/home/dji/Downloads/\"):\n",
    "    for file in files:\n",
    "        file_list.append(os.path.join(subdir, file))\n",
    "\n",
    "    break_flag = False\n",
    "    for ign_dir_key in IgnoredDirectoryKeyList:\n",
    "        if break_flag:\n",
    "            break\n",
    "        for d in dirs:\n",
    "            if d.endswith(ign_dir_key):\n",
    "                ignore_dir_path_list.append(\n",
    "                    subdir if subdir.endswith(\"/\") else subdir + \"/\")\n",
    "                break_flag = True\n",
    "                break\n",
    "for ig_dir in ignore_dir_path_list:\n",
    "    print(ig_dir)"
   ]
  },
  {
   "cell_type": "code",
   "execution_count": 71,
   "id": "national-register",
   "metadata": {
    "execution": {
     "iopub.execute_input": "2021-03-02T11:18:08.336545Z",
     "iopub.status.busy": "2021-03-02T11:18:08.335917Z",
     "iopub.status.idle": "2021-03-02T11:18:08.429660Z",
     "shell.execute_reply": "2021-03-02T11:18:08.429188Z",
     "shell.execute_reply.started": "2021-03-02T11:18:08.336476Z"
    },
    "tags": []
   },
   "outputs": [],
   "source": [
    "ignored_file_path_list = []\n",
    "for f in file_list:\n",
    "    for ig_dir in ignore_dir_path_list:\n",
    "        if f.startswith(ig_dir):\n",
    "            ignored_file_path_list.append(f)\n",
    "            break"
   ]
  }
 ],
 "metadata": {
  "kernelspec": {
   "display_name": "Python 3",
   "language": "python",
   "name": "python3"
  },
  "language_info": {
   "codemirror_mode": {
    "name": "ipython",
    "version": 3
   },
   "file_extension": ".py",
   "mimetype": "text/x-python",
   "name": "python",
   "nbconvert_exporter": "python",
   "pygments_lexer": "ipython3",
   "version": "3.8.8"
  },
  "toc-autonumbering": true,
  "toc-showcode": false
 },
 "nbformat": 4,
 "nbformat_minor": 5
}
